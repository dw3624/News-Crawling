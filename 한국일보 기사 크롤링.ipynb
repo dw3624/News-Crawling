{
 "cells": [
  {
   "cell_type": "code",
   "execution_count": 1,
   "metadata": {},
   "outputs": [],
   "source": [
    "from bs4 import BeautifulSoup"
   ]
  },
  {
   "cell_type": "code",
   "execution_count": 2,
   "metadata": {},
   "outputs": [],
   "source": [
    "import pandas as pd"
   ]
  },
  {
   "cell_type": "code",
   "execution_count": 3,
   "metadata": {},
   "outputs": [],
   "source": [
    "from urllib.request import urlopen\n",
    "from tqdm.notebook import tqdm"
   ]
  },
  {
   "cell_type": "markdown",
   "metadata": {},
   "source": [
    "# 날짜 지정"
   ]
  },
  {
   "cell_type": "code",
   "execution_count": 4,
   "metadata": {},
   "outputs": [],
   "source": [
    "start = '2021-05-20'\n",
    "end = '2021-05-21'"
   ]
  },
  {
   "cell_type": "code",
   "execution_count": 16,
   "metadata": {},
   "outputs": [],
   "source": [
    "url_pt1 = 'https://www.hankookilbo.com/Search?Page='\n",
    "url_pt2 = '&tab=NEWS&sort=recent&searchText=&searchTypeSet=TITLE,CONTENTS&realPaperYN=false&startDate='\n",
    "url_pt3 = '%2000:00:00&endDate='\n",
    "url_pt4 = '%2000:00:00&selectedPeriod=manual'\n",
    "\n",
    "url = url_pt1 + '1' + url_pt2 + str(start) + url_pt3 + str(end) + url_pt4"
   ]
  },
  {
   "cell_type": "code",
   "execution_count": 17,
   "metadata": {},
   "outputs": [
    {
     "data": {
      "text/plain": [
       "35"
      ]
     },
     "execution_count": 17,
     "metadata": {},
     "output_type": "execute_result"
    }
   ],
   "source": [
    "# soup 지정\n",
    "url_page = urlopen(url)\n",
    "soup = BeautifulSoup(url_page,'html.parser')\n",
    "\n",
    "# 페이지 수\n",
    "pages = soup.find_all('span',class_='only-number')[0].string\n",
    "pages = int(pages.replace(',',''))\n",
    "pages = round(pages / 10 + 1)\n",
    "pages"
   ]
  },
  {
   "cell_type": "markdown",
   "metadata": {},
   "source": [
    "# 날짜, 제목, 링크 추출"
   ]
  },
  {
   "cell_type": "code",
   "execution_count": 25,
   "metadata": {},
   "outputs": [
    {
     "data": {
      "text/plain": [
       "<p class=\"date\">2021.05.20 22:02 최은서 기자 silver@hankookilbo.com</p>"
      ]
     },
     "execution_count": 25,
     "metadata": {},
     "output_type": "execute_result"
    }
   ],
   "source": [
    "# 날짜\n",
    "soup.find_all('p','date')[5]"
   ]
  },
  {
   "cell_type": "code",
   "execution_count": 26,
   "metadata": {},
   "outputs": [
    {
     "data": {
      "text/plain": [
       "<a href=\"/News/Read/A2021052023080000356\" target=\"_self\">LG전에 좋은 기억을 가진 김영규(21ㆍNC)가 이번에도 팀의 ‘LG전 7연패’를 끊어내는데 앞장 섰다. NC는 20일 서울 잠실구장에서 열린 2021 KBO리그 LG와 경기에서 </a>"
      ]
     },
     "execution_count": 26,
     "metadata": {},
     "output_type": "execute_result"
    }
   ],
   "source": [
    "# 제목 및 링크\n",
    "soup.find_all(attrs={'target':'_self'})[5]"
   ]
  },
  {
   "cell_type": "code",
   "execution_count": 6,
   "metadata": {},
   "outputs": [
    {
     "data": {
      "application/vnd.jupyter.widget-view+json": {
       "model_id": "ac1492a6a51b49aa88a24c4c3eb70611",
       "version_major": 2,
       "version_minor": 0
      },
      "text/plain": [
       "HBox(children=(HTML(value=''), FloatProgress(value=0.0, max=34.0), HTML(value='')))"
      ]
     },
     "metadata": {},
     "output_type": "display_data"
    },
    {
     "name": "stdout",
     "output_type": "stream",
     "text": [
      "\n"
     ]
    }
   ],
   "source": [
    "a_list = []\n",
    "for p in tqdm(range(1,pages)):\n",
    "    # 링크, soup\n",
    "    url = url_pt1 + str(p) + url_pt2 + str(start) + url_pt3 + str(end) + url_pt4\n",
    "    url_page = urlopen(url)\n",
    "    soup = BeautifulSoup(url_page,'html.parser')\n",
    "    \n",
    "    # 제목, 링크\n",
    "    title = soup.find_all(attrs={'target':'_self'})[::3]\n",
    "    \n",
    "    for i in range(len(title)):\n",
    "        # 날짜\n",
    "        tmp_d = soup.find_all('p','date')[i].string.split()[0]\n",
    "        # 제목\n",
    "        tmp_t = title[i].string\n",
    "        tmp_l = title[i].attrs['href']\n",
    "        # 링크\n",
    "        tmp_l = 'https://www.hankookilbo.com/' + tmp_l\n",
    "        a_list.append([tmp_d,tmp_t,tmp_l])"
   ]
  },
  {
   "cell_type": "code",
   "execution_count": 7,
   "metadata": {},
   "outputs": [
    {
     "data": {
      "text/html": [
       "<div>\n",
       "<style scoped>\n",
       "    .dataframe tbody tr th:only-of-type {\n",
       "        vertical-align: middle;\n",
       "    }\n",
       "\n",
       "    .dataframe tbody tr th {\n",
       "        vertical-align: top;\n",
       "    }\n",
       "\n",
       "    .dataframe thead th {\n",
       "        text-align: right;\n",
       "    }\n",
       "</style>\n",
       "<table border=\"1\" class=\"dataframe\">\n",
       "  <thead>\n",
       "    <tr style=\"text-align: right;\">\n",
       "      <th></th>\n",
       "      <th>date</th>\n",
       "      <th>title</th>\n",
       "      <th>link</th>\n",
       "    </tr>\n",
       "  </thead>\n",
       "  <tbody>\n",
       "    <tr>\n",
       "      <th>0</th>\n",
       "      <td>2021.05.21</td>\n",
       "      <td>아가야, 바다 건너 꼭 희망을 찾으렴</td>\n",
       "      <td>https://www.hankookilbo.com//News/Read/A202105...</td>\n",
       "    </tr>\n",
       "    <tr>\n",
       "      <th>1</th>\n",
       "      <td>2021.05.21</td>\n",
       "      <td>‘LG전 완봉의 추억’ 김영규 “오늘도 완투 욕심 있었지만…”</td>\n",
       "      <td>https://www.hankookilbo.com//News/Read/A202105...</td>\n",
       "    </tr>\n",
       "    <tr>\n",
       "      <th>2</th>\n",
       "      <td>2021.05.20</td>\n",
       "      <td>김오수 청문회에 野 \"조국·서민 불러야\"...與 \"불가\"</td>\n",
       "      <td>https://www.hankookilbo.com//News/Read/A202105...</td>\n",
       "    </tr>\n",
       "    <tr>\n",
       "      <th>3</th>\n",
       "      <td>2021.05.20</td>\n",
       "      <td>\"중국 게 섯거라\"… SK-포드 합작사 설립, 한미 배터리 동맹 가속화</td>\n",
       "      <td>https://www.hankookilbo.com//News/Read/A202105...</td>\n",
       "    </tr>\n",
       "    <tr>\n",
       "      <th>4</th>\n",
       "      <td>2021.05.20</td>\n",
       "      <td>문 대통령, '강규형 전 KBS 이사 해임 부당' 판결에 불복해 상고</td>\n",
       "      <td>https://www.hankookilbo.com//News/Read/A202105...</td>\n",
       "    </tr>\n",
       "  </tbody>\n",
       "</table>\n",
       "</div>"
      ],
      "text/plain": [
       "         date                                    title  \\\n",
       "0  2021.05.21                     아가야, 바다 건너 꼭 희망을 찾으렴   \n",
       "1  2021.05.21       ‘LG전 완봉의 추억’ 김영규 “오늘도 완투 욕심 있었지만…”   \n",
       "2  2021.05.20          김오수 청문회에 野 \"조국·서민 불러야\"...與 \"불가\"   \n",
       "3  2021.05.20  \"중국 게 섯거라\"… SK-포드 합작사 설립, 한미 배터리 동맹 가속화   \n",
       "4  2021.05.20   문 대통령, '강규형 전 KBS 이사 해임 부당' 판결에 불복해 상고   \n",
       "\n",
       "                                                link  \n",
       "0  https://www.hankookilbo.com//News/Read/A202105...  \n",
       "1  https://www.hankookilbo.com//News/Read/A202105...  \n",
       "2  https://www.hankookilbo.com//News/Read/A202105...  \n",
       "3  https://www.hankookilbo.com//News/Read/A202105...  \n",
       "4  https://www.hankookilbo.com//News/Read/A202105...  "
      ]
     },
     "execution_count": 7,
     "metadata": {},
     "output_type": "execute_result"
    }
   ],
   "source": [
    "df = pd.DataFrame(a_list)\n",
    "df.columns = ['date','title','link']   # 칼럼명 지정\n",
    "df.head()"
   ]
  },
  {
   "cell_type": "markdown",
   "metadata": {},
   "source": [
    "# 본문 추출"
   ]
  },
  {
   "cell_type": "code",
   "execution_count": 28,
   "metadata": {},
   "outputs": [
    {
     "data": {
      "text/plain": [
       "[<p class=\"editor-p\">스페인령 세우타의 경비 조직 가르디아 시빌 대원이 18일 인근 해역에서 불법 이민자 부모로부터 분리된 갓난아기를 구조하고 있다. 최근 스페인 정부가 코로나19에 감염된 모로코 반군 지도자의 치료 목적 입국을 허가하자 이에 반발한 모로코 정부가 국경 경비를 느슨하게 하면서 아프리카를 떠나 유럽으로 향하는 대규모 불법 이민 행렬이 이어지고 있다. 가르디아 시빌 제공</p>]"
      ]
     },
     "execution_count": 28,
     "metadata": {},
     "output_type": "execute_result"
    }
   ],
   "source": [
    "url_page = urlopen(df.link[0])\n",
    "soup = BeautifulSoup(url_page,'html.parser')    \n",
    "soup.find_all('p','editor-p')"
   ]
  },
  {
   "cell_type": "code",
   "execution_count": 9,
   "metadata": {
    "scrolled": true
   },
   "outputs": [
    {
     "data": {
      "application/vnd.jupyter.widget-view+json": {
       "model_id": "eb9248c4aec245df9978501cc5eab56b",
       "version_major": 2,
       "version_minor": 0
      },
      "text/plain": [
       "HBox(children=(HTML(value=''), FloatProgress(value=0.0, max=294.0), HTML(value='')))"
      ]
     },
     "metadata": {},
     "output_type": "display_data"
    },
    {
     "name": "stdout",
     "output_type": "stream",
     "text": [
      "\n"
     ]
    }
   ],
   "source": [
    "df['article'] = ''\n",
    "for i in tqdm(range(len(df))):\n",
    "    url_page = urlopen(df.link[i])\n",
    "    soup = BeautifulSoup(url_page,'html.parser')\n",
    "    \n",
    "    tmp = soup.find_all('p','editor-p')  # 본문\n",
    "    text = ''\n",
    "    for t in range(len(tmp)):\n",
    "        text += tmp[t].get_text()\n",
    "    df.article[i] = text"
   ]
  },
  {
   "cell_type": "markdown",
   "metadata": {},
   "source": [
    "# 단어 추출"
   ]
  },
  {
   "cell_type": "code",
   "execution_count": 11,
   "metadata": {},
   "outputs": [],
   "source": [
    "from konlpy.utils import pprint\n",
    "from konlpy.tag import Komoran\n",
    "import re\n",
    "komoran = Komoran()\n",
    "# 설치오류가 나는 경우, python버전과 맞는 JPype를 설치 후 진행한다(要 검색)."
   ]
  },
  {
   "cell_type": "code",
   "execution_count": 12,
   "metadata": {
    "scrolled": false
   },
   "outputs": [
    {
     "data": {
      "application/vnd.jupyter.widget-view+json": {
       "model_id": "b217d945d44745cbafad2014b3a9d612",
       "version_major": 2,
       "version_minor": 0
      },
      "text/plain": [
       "HBox(children=(HTML(value=''), FloatProgress(value=0.0, max=294.0), HTML(value='')))"
      ]
     },
     "metadata": {},
     "output_type": "display_data"
    },
    {
     "name": "stdout",
     "output_type": "stream",
     "text": [
      "\n"
     ]
    }
   ],
   "source": [
    "regex = '\\d+월|^\\d+$|\\d+일|\\d+년|^한국일보$'   # 특정 정규식 지정\n",
    "\n",
    "df['words'] = ''\n",
    "for i in tqdm(range(len(df))):\n",
    "    # 명사 추출 후 set()으로 중복제거, sorted()로 오름차순 list화\n",
    "    tmp = sorted(set(komoran.nouns(df.article[i])))\n",
    "    \n",
    "    # 지정한 특정 정규식과 일치하는 것을 삭제\n",
    "    tmp = [re.sub(regex,'',s) for s in tmp]\n",
    "    \n",
    "    # 길이가 1이하인 list 요소 삭제\n",
    "    tmp = [s for s in tmp if len(s) > 1]\n",
    "    \n",
    "    # '' 제거 후 df 행에 입력\n",
    "    df.words[i] = ','.join(tmp)"
   ]
  },
  {
   "cell_type": "code",
   "execution_count": 14,
   "metadata": {},
   "outputs": [],
   "source": [
    "df.to_csv('./data/한국일보(2.20~2.21).csv',encoding='utf-8-sig')"
   ]
  },
  {
   "cell_type": "markdown",
   "metadata": {},
   "source": [
    "저장 후 해당 csv를 확인해보니, 지정된 날짜와 일치하지 않는 기사가 여러개 존재한다.\n",
    "한국일보 사이트에서 날짜를 지정해보니 같은 오류가 발생해, 해당 사이트의 오류로 예상된다."
   ]
  }
 ],
 "metadata": {
  "kernelspec": {
   "display_name": "Python 3",
   "language": "python",
   "name": "python3"
  },
  "language_info": {
   "codemirror_mode": {
    "name": "ipython",
    "version": 3
   },
   "file_extension": ".py",
   "mimetype": "text/x-python",
   "name": "python",
   "nbconvert_exporter": "python",
   "pygments_lexer": "ipython3",
   "version": "3.8.5"
  }
 },
 "nbformat": 4,
 "nbformat_minor": 4
}
